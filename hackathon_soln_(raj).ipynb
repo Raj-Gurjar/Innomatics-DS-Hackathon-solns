{
  "nbformat": 4,
  "nbformat_minor": 0,
  "metadata": {
    "colab": {
      "provenance": []
    },
    "kernelspec": {
      "name": "python3",
      "display_name": "Python 3"
    },
    "language_info": {
      "name": "python"
    }
  },
  "cells": [
    {
      "cell_type": "markdown",
      "source": [
        "Q.1 How many \".csv\" files are available in the dataset?\n",
        "\n",
        "Ans = 4"
      ],
      "metadata": {
        "id": "nrjTVoH_Lcif"
      }
    },
    {
      "cell_type": "markdown",
      "source": [
        "Q.2 shape of \"movies.csv\""
      ],
      "metadata": {
        "id": "RPmJdwXFGY6_"
      }
    },
    {
      "cell_type": "code",
      "source": [
        "import pandas as pd\n",
        "\n",
        "# Load the data from the \"movies.csv\" file\n",
        "movies_df = pd.read_csv('movies.csv')\n",
        "\n",
        "# Display the shape of the DataFrame\n",
        "print(\"Shape of 'movies.csv':\", movies_df.shape)\n"
      ],
      "metadata": {
        "colab": {
          "base_uri": "https://localhost:8080/"
        },
        "id": "FSlonvSrGJzv",
        "outputId": "781d22d2-7215-49e8-9bfb-428030caba89"
      },
      "execution_count": 35,
      "outputs": [
        {
          "output_type": "stream",
          "name": "stdout",
          "text": [
            "Shape of 'movies.csv': (9742, 3)\n"
          ]
        }
      ]
    },
    {
      "cell_type": "markdown",
      "source": [],
      "metadata": {
        "id": "WBaZ1IKDGMdH"
      }
    },
    {
      "cell_type": "markdown",
      "source": [
        "Q.3 What is the shape of \"ratings.csv\"?"
      ],
      "metadata": {
        "id": "bf14q9Z-GlLK"
      }
    },
    {
      "cell_type": "code",
      "source": [
        "import pandas as pd\n",
        "\n",
        "# Load the data from the \"ratings.csv\" file\n",
        "ratings_df = pd.read_csv('ratings.csv')\n",
        "\n",
        "# Display the shape of the DataFrame\n",
        "print(\"Shape of 'ratings.csv':\", ratings_df.shape)\n"
      ],
      "metadata": {
        "colab": {
          "base_uri": "https://localhost:8080/"
        },
        "id": "YZad-9DGGLke",
        "outputId": "18e1e137-8e88-4c4f-cfaf-9d28aa66e2a7"
      },
      "execution_count": 36,
      "outputs": [
        {
          "output_type": "stream",
          "name": "stdout",
          "text": [
            "Shape of 'ratings.csv': (100836, 4)\n"
          ]
        }
      ]
    },
    {
      "cell_type": "markdown",
      "source": [
        "Q.4 How many unique \"userId\" are available in \"ratings.csv\"?"
      ],
      "metadata": {
        "id": "SeU6b9D6G0xj"
      }
    },
    {
      "cell_type": "code",
      "source": [
        "import pandas as pd\n",
        "\n",
        "# Load the data from the \"ratings.csv\" file\n",
        "ratings_df = pd.read_csv('ratings.csv')\n",
        "\n",
        "# Count the number of unique userId values\n",
        "unique_user_ids = ratings_df['userId'].nunique()\n",
        "\n",
        "# Display the result\n",
        "print(\"Number of unique userId values in 'ratings.csv':\", unique_user_ids)\n"
      ],
      "metadata": {
        "colab": {
          "base_uri": "https://localhost:8080/"
        },
        "id": "_Q-q6fYQGLot",
        "outputId": "5a1c801e-4319-4c46-cc3c-558958e82f1f"
      },
      "execution_count": 37,
      "outputs": [
        {
          "output_type": "stream",
          "name": "stdout",
          "text": [
            "Number of unique userId values in 'ratings.csv': 610\n"
          ]
        }
      ]
    },
    {
      "cell_type": "markdown",
      "source": [
        "Q.5 Which movie has recieved maximum number of user ratings?\n",
        "*"
      ],
      "metadata": {
        "id": "35JsnqejG8uu"
      }
    },
    {
      "cell_type": "code",
      "source": [
        "import pandas as pd\n",
        "\n",
        "# Load the data from CSV files\n",
        "movies_df = pd.read_csv('movies.csv')\n",
        "ratings_df = pd.read_csv('ratings.csv')\n",
        "\n",
        "# Merge movies and ratings dataframes on movieId\n",
        "merged_df = pd.merge(movies_df, ratings_df, on='movieId')\n",
        "\n",
        "# Find the top 5 movies with the maximum number of user ratings\n",
        "top_5_max_rated_movies = merged_df.groupby('title').size().nlargest(5)\n",
        "\n",
        "# Display the result for each movie in the top 5\n",
        "print(\"Top 5 Movies with the Maximum Number of User Ratings:\")\n",
        "for title, num_ratings in top_5_max_rated_movies.items():\n",
        "    print(f\"Movie: {title}, Number of User Ratings: {num_ratings}\")\n",
        "\n"
      ],
      "metadata": {
        "colab": {
          "base_uri": "https://localhost:8080/"
        },
        "id": "4rk9YF4SGLr2",
        "outputId": "f384695e-7e0e-4608-a58b-131edb4f1413"
      },
      "execution_count": 47,
      "outputs": [
        {
          "output_type": "stream",
          "name": "stdout",
          "text": [
            "Top 5 Movies with the Maximum Number of User Ratings:\n",
            "Movie: Forrest Gump (1994), Number of User Ratings: 329\n",
            "Movie: Shawshank Redemption, The (1994), Number of User Ratings: 317\n",
            "Movie: Pulp Fiction (1994), Number of User Ratings: 307\n",
            "Movie: Silence of the Lambs, The (1991), Number of User Ratings: 279\n",
            "Movie: Matrix, The (1999), Number of User Ratings: 278\n"
          ]
        }
      ]
    },
    {
      "cell_type": "markdown",
      "source": [
        "Q.6 Select all the correct tags submitted by users to \"Matrix, The (1999)\" movie?\n",
        "\n"
      ],
      "metadata": {
        "id": "WYzvTHvAJAIU"
      }
    },
    {
      "cell_type": "code",
      "source": [
        "import pandas as pd\n",
        "\n",
        "# Load the data from CSV files\n",
        "movies_df = pd.read_csv('movies.csv')\n",
        "tags_df = pd.read_csv('tags.csv')\n",
        "links_df = pd.read_csv('links.csv')\n",
        "\n",
        "# Merge movies and tags dataframes on movieId\n",
        "merged_tags_df = pd.merge(movies_df[movies_df['title'] == 'Matrix, The (1999)'], tags_df, on='movieId')\n",
        "\n",
        "# Display the tags submitted by users for \"Matrix, The (1999)\"\n",
        "print(\"Tags submitted by users for 'Matrix, The (1999)':\")\n",
        "print(merged_tags_df['tag'].unique())\n"
      ],
      "metadata": {
        "colab": {
          "base_uri": "https://localhost:8080/"
        },
        "id": "HgZ7Iv60GLvH",
        "outputId": "5dd37fe9-106a-4346-ef97-fbf3a454753b"
      },
      "execution_count": 48,
      "outputs": [
        {
          "output_type": "stream",
          "name": "stdout",
          "text": [
            "Tags submitted by users for 'Matrix, The (1999)':\n",
            "['martial arts' 'sci-fi' 'alternate universe' 'philosophy'\n",
            " 'post apocalyptic']\n"
          ]
        }
      ]
    },
    {
      "cell_type": "markdown",
      "source": [
        "Q.7 What is the average user rating for movie named \"Terminator 2: Judgment Day (1991)\"?"
      ],
      "metadata": {
        "id": "KtKN1g_3JUtX"
      }
    },
    {
      "cell_type": "code",
      "source": [
        "import pandas as pd\n",
        "\n",
        "# Load the data from CSV files\n",
        "movies_df = pd.read_csv('movies.csv')\n",
        "ratings_df = pd.read_csv('ratings.csv')\n",
        "\n",
        "# Merge movies and ratings dataframes on movieId\n",
        "merged_df = pd.merge(movies_df, ratings_df, on='movieId')\n",
        "\n",
        "# Filter for the movie \"Terminator 2: Judgment Day (1991)\"\n",
        "terminator_rating_df = merged_df[merged_df['title'] == 'Terminator 2: Judgment Day (1991)']\n",
        "\n",
        "# Calculate the average user rating\n",
        "average_rating = terminator_rating_df['rating'].mean()\n",
        "\n",
        "# Display the result\n",
        "print(\"Average user rating for 'Terminator 2: Judgment Day (1991)':\", average_rating)\n"
      ],
      "metadata": {
        "colab": {
          "base_uri": "https://localhost:8080/"
        },
        "id": "rDVjF_VoGLyA",
        "outputId": "97f94c90-3926-4722-aaa6-b15e27b2e6dc"
      },
      "execution_count": 49,
      "outputs": [
        {
          "output_type": "stream",
          "name": "stdout",
          "text": [
            "Average user rating for 'Terminator 2: Judgment Day (1991)': 3.970982142857143\n"
          ]
        }
      ]
    },
    {
      "cell_type": "markdown",
      "source": [
        "Q.8 How does the data distribution of user ratings for \"Fight Club (1999)\" movie looks like?\n"
      ],
      "metadata": {
        "id": "LalJis4QJlqh"
      }
    },
    {
      "cell_type": "code",
      "source": [
        "import pandas as pd\n",
        "import matplotlib.pyplot as plt\n",
        "import seaborn as sns\n",
        "from scipy.stats import skew\n",
        "\n",
        "# Load the data from CSV files\n",
        "movies_df = pd.read_csv('movies.csv')\n",
        "ratings_df = pd.read_csv('ratings.csv')\n",
        "\n",
        "# Merge movies and ratings dataframes on movieId\n",
        "merged_df = pd.merge(movies_df, ratings_df, on='movieId')\n",
        "\n",
        "# Filter for the movie \"Fight Club (1999)\"\n",
        "fight_club_ratings_df = merged_df[merged_df['title'] == 'Fight Club (1999)']\n",
        "\n",
        "# Plot the histogram of user ratings using seaborn\n",
        "plt.figure(figsize=(10, 6))\n",
        "sns.histplot(fight_club_ratings_df['rating'], bins=5, kde=False, edgecolor='black')\n",
        "plt.title('Distribution of User Ratings for \"Fight Club (1999)\"')\n",
        "plt.xlabel('User Ratings')\n",
        "plt.ylabel('Frequency')\n",
        "\n",
        "# Calculate skewness\n",
        "skewness = skew(fight_club_ratings_df['rating'])\n",
        "plt.annotate(f'Skewness: {skewness:.2f}', xy=(0.7, 0.9), xycoords='axes fraction', fontsize=12, color='red')\n",
        "\n",
        "plt.show()\n"
      ],
      "metadata": {
        "colab": {
          "base_uri": "https://localhost:8080/",
          "height": 562
        },
        "id": "dSBvBsxgGL1D",
        "outputId": "6810c640-8c15-481c-dfdf-e117f8aa8b27"
      },
      "execution_count": 51,
      "outputs": [
        {
          "output_type": "display_data",
          "data": {
            "text/plain": [
              "<Figure size 1000x600 with 1 Axes>"
            ],
            "image/png": "[encoded data removed]"
          },
          "metadata": {}
        }
      ]
    },
    {
      "cell_type": "markdown",
      "source": [
        "Q.9 Which movie is the most popular based on  average user ratings?\n",
        "*"
      ],
      "metadata": {
        "id": "KI7tsiZCJ_Om"
      }
    },
    {
      "cell_type": "code",
      "source": [
        "import pandas as pd\n",
        "\n",
        "# Load the data from CSV files\n",
        "movies_df = pd.read_csv('movies.csv')\n",
        "ratings_df = pd.read_csv('ratings.csv')\n",
        "\n",
        "# Group user ratings based on movieId and apply aggregation operations\n",
        "grouped_ratings = ratings_df.groupby('movieId').agg({'rating': ['count', 'mean']})\n",
        "\n",
        "# Flatten the multi-level column index\n",
        "grouped_ratings.columns = ['_'.join(col).strip() for col in grouped_ratings.columns.values]\n",
        "\n",
        "# Merge movies and grouped ratings dataframes on movieId\n",
        "merged_df = pd.merge(movies_df, grouped_ratings, on='movieId', how='inner')\n",
        "\n",
        "# Filter only those movies with more than 50 user ratings\n",
        "popular_movies_df = merged_df[merged_df['rating_count'] > 50]\n",
        "\n",
        "# Find the most popular movie based on average user ratings\n",
        "most_popular_movie = popular_movies_df.loc[popular_movies_df['rating_mean'].idxmax()]\n",
        "\n",
        "# Display the result\n",
        "print(\"Most popular movie based on average user ratings:\")\n",
        "print(\"MovieId:\", most_popular_movie['movieId'])\n",
        "print(\"Title:\", most_popular_movie['title'])\n",
        "print(\"Average User Rating:\", most_popular_movie['rating_mean'])\n"
      ],
      "metadata": {
        "colab": {
          "base_uri": "https://localhost:8080/"
        },
        "id": "6cEjw43UGL4S",
        "outputId": "32d17e83-21a0-4e40-f870-6807dfc653e5"
      },
      "execution_count": 52,
      "outputs": [
        {
          "output_type": "stream",
          "name": "stdout",
          "text": [
            "Most popular movie based on average user ratings:\n",
            "MovieId: 318\n",
            "Title: Shawshank Redemption, The (1994)\n",
            "Average User Rating: 4.429022082018927\n"
          ]
        }
      ]
    },
    {
      "cell_type": "markdown",
      "source": [
        "Q.10 Select all the correct options which comes under top 5 popular movies based on number of user ratings."
      ],
      "metadata": {
        "id": "X5LzzIEXKYTg"
      }
    },
    {
      "cell_type": "code",
      "source": [
        "# Display the top 5 popular movies based on number of user ratings\n",
        "top_5_popular_movies = popular_movies_df.nlargest(5, 'rating_count')\n",
        "\n",
        "print(\"Top 5 Popular Movies based on Number of User Ratings:\")\n",
        "for idx, row in top_5_popular_movies.iterrows():\n",
        "    print(\"MovieId:\", row['movieId'])\n",
        "    print(\"Title:\", row['title'])\n",
        "    print(\"Number of User Ratings:\", row['rating_count'])\n",
        "    print(\"Average User Rating:\", row['rating_mean'])\n",
        "    print()\n"
      ],
      "metadata": {
        "colab": {
          "base_uri": "https://localhost:8080/"
        },
        "id": "GFjPzWkmKHZb",
        "outputId": "7de7344e-1f1e-4519-cd45-42c155e19d52"
      },
      "execution_count": 53,
      "outputs": [
        {
          "output_type": "stream",
          "name": "stdout",
          "text": [
            "Top 5 Popular Movies based on Number of User Ratings:\n",
            "MovieId: 356\n",
            "Title: Forrest Gump (1994)\n",
            "Number of User Ratings: 329\n",
            "Average User Rating: 4.164133738601824\n",
            "\n",
            "MovieId: 318\n",
            "Title: Shawshank Redemption, The (1994)\n",
            "Number of User Ratings: 317\n",
            "Average User Rating: 4.429022082018927\n",
            "\n",
            "MovieId: 296\n",
            "Title: Pulp Fiction (1994)\n",
            "Number of User Ratings: 307\n",
            "Average User Rating: 4.197068403908795\n",
            "\n",
            "MovieId: 593\n",
            "Title: Silence of the Lambs, The (1991)\n",
            "Number of User Ratings: 279\n",
            "Average User Rating: 4.161290322580645\n",
            "\n",
            "MovieId: 2571\n",
            "Title: Matrix, The (1999)\n",
            "Number of User Ratings: 278\n",
            "Average User Rating: 4.192446043165468\n",
            "\n"
          ]
        }
      ]
    },
    {
      "cell_type": "markdown",
      "source": [
        "Q.11 Which Sci-Fi movie is \"third most popular\" based on the number of user ratings?"
      ],
      "metadata": {
        "id": "t8k2IQUdKvQy"
      }
    },
    {
      "cell_type": "code",
      "source": [
        "import pandas as pd\n",
        "\n",
        "# Load the data from CSV files\n",
        "movies_df = pd.read_csv('movies.csv')\n",
        "ratings_df = pd.read_csv('ratings.csv')\n",
        "\n",
        "# Group user ratings based on movieId and apply aggregation operations\n",
        "grouped_ratings = ratings_df.groupby('movieId').agg({'rating': ['count', 'mean']})\n",
        "\n",
        "# Flatten the multi-level column index\n",
        "grouped_ratings.columns = ['_'.join(col).strip() for col in grouped_ratings.columns.values]\n",
        "\n",
        "# Merge movies and grouped ratings dataframes on movieId\n",
        "merged_df = pd.merge(movies_df, grouped_ratings, on='movieId', how='inner')\n",
        "\n",
        "# Filter only Sci-Fi movies\n",
        "sci_fi_df = merged_df[merged_df['genres'].str.contains('Sci-Fi', case=False)]\n",
        "\n",
        "# Filter only those Sci-Fi movies with more than 50 user ratings\n",
        "popular_sci_fi_df = sci_fi_df[sci_fi_df['rating_count'] > 50]\n",
        "\n",
        "# Find the third most popular Sci-Fi movie based on the number of user ratings\n",
        "third_most_popular_sci_fi_movie = popular_sci_fi_df.nlargest(3, 'rating_count').iloc[-1]\n",
        "\n",
        "# Display the result\n",
        "print(\"Third most popular Sci-Fi movie based on number of user ratings:\")\n",
        "print(\"MovieId:\", third_most_popular_sci_fi_movie['movieId'])\n",
        "print(\"Title:\", third_most_popular_sci_fi_movie['title'])\n",
        "print(\"Number of User Ratings:\", third_most_popular_sci_fi_movie['rating_count'])\n",
        "print(\"Average User Rating:\", third_most_popular_sci_fi_movie['rating_mean'])\n"
      ],
      "metadata": {
        "colab": {
          "base_uri": "https://localhost:8080/"
        },
        "id": "YNOzCR5cKHc7",
        "outputId": "07dce589-709f-42ea-bf8b-5902a78a6914"
      },
      "execution_count": 54,
      "outputs": [
        {
          "output_type": "stream",
          "name": "stdout",
          "text": [
            "Third most popular Sci-Fi movie based on number of user ratings:\n",
            "MovieId: 480\n",
            "Title: Jurassic Park (1993)\n",
            "Number of User Ratings: 238\n",
            "Average User Rating: 3.75\n"
          ]
        }
      ]
    },
    {
      "cell_type": "markdown",
      "source": [
        "Q.12 Mention the movieId of the movie which has the highest IMDB rating.\n",
        "*\n"
      ],
      "metadata": {
        "id": "ntazH1UYK9kW"
      }
    },
    {
      "cell_type": "code",
      "source": [
        "import pandas as pd\n",
        "\n",
        "# Load the data from CSV files\n",
        "movies_df = pd.read_csv('movies.csv')\n",
        "ratings_df = pd.read_csv('ratings.csv')\n",
        "links_df = pd.read_csv('links.csv')\n",
        "\n",
        "# Merge movies and ratings dataframes on movieId\n",
        "merged_df = pd.merge(movies_df, ratings_df, on='movieId')\n",
        "\n",
        "# Filter movies with more than 50 user ratings\n",
        "filtered_df = merged_df.groupby('movieId').filter(lambda x: len(x) > 50)\n",
        "\n",
        "# Merge with links dataframe to get IMDB ratings\n",
        "final_df = pd.merge(filtered_df, links_df, on='movieId')\n",
        "\n",
        "# Find the top 5 movies with the highest IMDB ratings\n",
        "top_5_movies = final_df.groupby('movieId').agg({'imdbId': 'max', 'title': 'first', 'userId': 'count'}).nlargest(5, 'imdbId')\n",
        "\n",
        "# Print the top 5 movies with their movieId, title, IMDB rating, and number of user reviews\n",
        "print(\"Top 5 Movies with the Highest IMDB Ratings:\")\n",
        "for idx, row in top_5_movies.iterrows():\n",
        "    print(f\"MovieId: {idx}, Title: {row['title']}, IMDB Rating: {row['imdbId']}, Number of User Reviews: {row['userId']}\")"
      ],
      "metadata": {
        "colab": {
          "base_uri": "https://localhost:8080/"
        },
        "id": "UDXbCwTNLIb9",
        "outputId": "24119251-c692-44c9-f1ce-ca5841ca82c1"
      },
      "execution_count": 55,
      "outputs": [
        {
          "output_type": "stream",
          "name": "stdout",
          "text": [
            "Top 5 Movies with the Highest IMDB Ratings:\n",
            "MovieId: 109374, Title: Grand Budapest Hotel, The (2014), IMDB Rating: 2278388, Number of User Reviews: 52\n",
            "MovieId: 112852, Title: Guardians of the Galaxy (2014), IMDB Rating: 2015381, Number of User Reviews: 59\n",
            "MovieId: 99114, Title: Django Unchained (2012), IMDB Rating: 1853728, Number of User Reviews: 71\n",
            "MovieId: 81845, Title: King's Speech, The (2010), IMDB Rating: 1504320, Number of User Reviews: 58\n",
            "MovieId: 122904, Title: Deadpool (2016), IMDB Rating: 1431045, Number of User Reviews: 54\n"
          ]
        }
      ]
    },
    {
      "cell_type": "markdown",
      "source": [
        "Q.13 Mention the movieId of the \"Sci-Fi\" movie which has the highest IMDB rating."
      ],
      "metadata": {
        "id": "cPCakhIFLNK9"
      }
    },
    {
      "cell_type": "code",
      "source": [
        "import pandas as pd\n",
        "\n",
        "# Load the data from CSV files\n",
        "movies_df = pd.read_csv('movies.csv')\n",
        "ratings_df = pd.read_csv('ratings.csv')\n",
        "links_df = pd.read_csv('links.csv')\n",
        "\n",
        "# Merge movies and ratings dataframes on movieId\n",
        "merged_df = pd.merge(movies_df, ratings_df, on='movieId')\n",
        "\n",
        "# Filter movies with more than 50 user ratings\n",
        "filtered_df = merged_df.groupby('movieId').filter(lambda x: len(x) > 50)\n",
        "\n",
        "# Merge with links dataframe to get IMDB ratings\n",
        "final_df = pd.merge(filtered_df, links_df, on='movieId')\n",
        "\n",
        "# Filter Sci-Fi movies\n",
        "sci_fi_df = final_df[final_df['genres'].str.contains('Sci-Fi', case=False)]\n",
        "\n",
        "# Find the top 5 Sci-Fi movies with the highest IMDB ratings\n",
        "top_5_sci_fi_movies = sci_fi_df.groupby('movieId').agg({'imdbId': 'max', 'title': 'first', 'userId': 'count'}).nlargest(5, 'imdbId')\n",
        "\n",
        "# Print the top 5 Sci-Fi movies with their movieId, title, IMDB rating, and number of user ratings\n",
        "print(\"Top 5 Sci-Fi Movies with the Highest IMDB Ratings:\")\n",
        "for idx, row in top_5_sci_fi_movies.iterrows():\n",
        "    print(f\"MovieId: {idx}, Title: {row['title']}, IMDB Rating: {row['imdbId']}, Number of User Ratings: {row['userId']}\")\n"
      ],
      "metadata": {
        "colab": {
          "base_uri": "https://localhost:8080/"
        },
        "id": "6AQhWXUMEcNH",
        "outputId": "baf9ebaf-074e-4d64-c878-2dc2e6c08e3f"
      },
      "execution_count": 56,
      "outputs": [
        {
          "output_type": "stream",
          "name": "stdout",
          "text": [
            "Top 5 Sci-Fi Movies with the Highest IMDB Ratings:\n",
            "MovieId: 112852, Title: Guardians of the Galaxy (2014), IMDB Rating: 2015381, Number of User Ratings: 59\n",
            "MovieId: 122904, Title: Deadpool (2016), IMDB Rating: 1431045, Number of User Ratings: 54\n",
            "MovieId: 91500, Title: The Hunger Games (2012), IMDB Rating: 1392170, Number of User Ratings: 54\n",
            "MovieId: 79132, Title: Inception (2010), IMDB Rating: 1375666, Number of User Ratings: 143\n",
            "MovieId: 70286, Title: District 9 (2009), IMDB Rating: 1136608, Number of User Ratings: 65\n"
          ]
        }
      ]
    }
  ]
}